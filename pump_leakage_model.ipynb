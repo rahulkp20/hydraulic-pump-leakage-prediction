{
 "cells": [
  {
   "cell_type": "code",
   "execution_count": 9,
   "id": "e0e303df-e8d0-45fd-8819-7e121a4980ec",
   "metadata": {},
   "outputs": [
    {
     "name": "stdout",
     "output_type": "stream",
     "text": [
      "CE: (2205, 60) PS1: (2205, 6000) EPS1: (2205, 6000) TS1: (2205, 60) VS1: (2205, 60)\n"
     ]
    }
   ],
   "source": [
    "import pandas as pd\n",
    "\n",
    "# Load the datasets\n",
    "ce = pd.read_csv('CE.txt', sep=r'\\s+', header=None)\n",
    "ps1 = pd.read_csv('PS1.txt', sep=r'\\s+', header=None)\n",
    "eps1 = pd.read_csv('EPS1.txt', sep=r'\\s+', header=None)\n",
    "ts1 = pd.read_csv('TS1.txt', sep=r'\\s+', header=None)\n",
    "vs1 = pd.read_csv('VS1.txt', sep=r'\\s+', header=None)\n",
    "labels_df = pd.read_csv(\"profile.txt\", sep=r'\\s+', header=None)\n",
    "\n",
    "# Target variable: 0 = no leakage, 1 = weak, 2 = severe\n",
    "labels = labels_df[2]\n",
    "\n",
    "# Check distribution\n",
    "labels.value_counts()\n",
    "\n",
    "\n",
    "# Confirm shapes\n",
    "print(\"CE:\", ce.shape, \"PS1:\", ps1.shape, \"EPS1:\", eps1.shape, \"TS1:\", ts1.shape, \"VS1:\", vs1.shape)\n",
    "\n"
   ]
  },
  {
   "cell_type": "code",
   "execution_count": 12,
   "id": "e7913fdf-268b-47fa-aa8a-ee09be8914bc",
   "metadata": {},
   "outputs": [
    {
     "name": "stdout",
     "output_type": "stream",
     "text": [
      "(2205, 16)\n"
     ]
    },
    {
     "data": {
      "text/html": [
       "<div>\n",
       "<style scoped>\n",
       "    .dataframe tbody tr th:only-of-type {\n",
       "        vertical-align: middle;\n",
       "    }\n",
       "\n",
       "    .dataframe tbody tr th {\n",
       "        vertical-align: top;\n",
       "    }\n",
       "\n",
       "    .dataframe thead th {\n",
       "        text-align: right;\n",
       "    }\n",
       "</style>\n",
       "<table border=\"1\" class=\"dataframe\">\n",
       "  <thead>\n",
       "    <tr style=\"text-align: right;\">\n",
       "      <th></th>\n",
       "      <th>pressure_mean</th>\n",
       "      <th>pressure_std</th>\n",
       "      <th>pressure_min</th>\n",
       "      <th>pressure_max</th>\n",
       "      <th>power_mean</th>\n",
       "      <th>power_std</th>\n",
       "      <th>power_min</th>\n",
       "      <th>power_max</th>\n",
       "      <th>temp_mean</th>\n",
       "      <th>temp_std</th>\n",
       "      <th>temp_min</th>\n",
       "      <th>temp_max</th>\n",
       "      <th>vib_mean</th>\n",
       "      <th>vib_std</th>\n",
       "      <th>vib_min</th>\n",
       "      <th>vib_max</th>\n",
       "    </tr>\n",
       "  </thead>\n",
       "  <tbody>\n",
       "    <tr>\n",
       "      <th>0</th>\n",
       "      <td>160.673492</td>\n",
       "      <td>13.939309</td>\n",
       "      <td>145.83</td>\n",
       "      <td>191.51</td>\n",
       "      <td>2538.929167</td>\n",
       "      <td>185.616121</td>\n",
       "      <td>2339.8</td>\n",
       "      <td>2951.6</td>\n",
       "      <td>35.621983</td>\n",
       "      <td>0.308230</td>\n",
       "      <td>35.156</td>\n",
       "      <td>36.152</td>\n",
       "      <td>0.576950</td>\n",
       "      <td>0.027078</td>\n",
       "      <td>0.532</td>\n",
       "      <td>0.624</td>\n",
       "    </tr>\n",
       "    <tr>\n",
       "      <th>1</th>\n",
       "      <td>160.603320</td>\n",
       "      <td>14.118967</td>\n",
       "      <td>145.73</td>\n",
       "      <td>191.47</td>\n",
       "      <td>2531.498900</td>\n",
       "      <td>189.940089</td>\n",
       "      <td>2332.0</td>\n",
       "      <td>2947.4</td>\n",
       "      <td>36.676967</td>\n",
       "      <td>0.585740</td>\n",
       "      <td>35.648</td>\n",
       "      <td>37.488</td>\n",
       "      <td>0.565850</td>\n",
       "      <td>0.027241</td>\n",
       "      <td>0.524</td>\n",
       "      <td>0.626</td>\n",
       "    </tr>\n",
       "    <tr>\n",
       "      <th>2</th>\n",
       "      <td>160.347720</td>\n",
       "      <td>14.192619</td>\n",
       "      <td>145.37</td>\n",
       "      <td>191.41</td>\n",
       "      <td>2519.928000</td>\n",
       "      <td>190.736850</td>\n",
       "      <td>2318.6</td>\n",
       "      <td>2939.8</td>\n",
       "      <td>37.880800</td>\n",
       "      <td>0.559169</td>\n",
       "      <td>36.879</td>\n",
       "      <td>38.621</td>\n",
       "      <td>0.576533</td>\n",
       "      <td>0.036729</td>\n",
       "      <td>0.529</td>\n",
       "      <td>0.662</td>\n",
       "    </tr>\n",
       "    <tr>\n",
       "      <th>3</th>\n",
       "      <td>160.188088</td>\n",
       "      <td>14.227803</td>\n",
       "      <td>145.14</td>\n",
       "      <td>191.34</td>\n",
       "      <td>2511.541633</td>\n",
       "      <td>191.270607</td>\n",
       "      <td>2310.8</td>\n",
       "      <td>2929.6</td>\n",
       "      <td>38.879050</td>\n",
       "      <td>0.516176</td>\n",
       "      <td>37.887</td>\n",
       "      <td>39.473</td>\n",
       "      <td>0.569267</td>\n",
       "      <td>0.033464</td>\n",
       "      <td>0.527</td>\n",
       "      <td>0.645</td>\n",
       "    </tr>\n",
       "    <tr>\n",
       "      <th>4</th>\n",
       "      <td>160.000472</td>\n",
       "      <td>14.276434</td>\n",
       "      <td>144.95</td>\n",
       "      <td>191.41</td>\n",
       "      <td>2503.449500</td>\n",
       "      <td>191.258369</td>\n",
       "      <td>2301.8</td>\n",
       "      <td>2923.8</td>\n",
       "      <td>39.803917</td>\n",
       "      <td>0.535374</td>\n",
       "      <td>38.789</td>\n",
       "      <td>40.391</td>\n",
       "      <td>0.577367</td>\n",
       "      <td>0.033484</td>\n",
       "      <td>0.524</td>\n",
       "      <td>0.660</td>\n",
       "    </tr>\n",
       "  </tbody>\n",
       "</table>\n",
       "</div>"
      ],
      "text/plain": [
       "   pressure_mean  pressure_std  pressure_min  pressure_max   power_mean  \\\n",
       "0     160.673492     13.939309        145.83        191.51  2538.929167   \n",
       "1     160.603320     14.118967        145.73        191.47  2531.498900   \n",
       "2     160.347720     14.192619        145.37        191.41  2519.928000   \n",
       "3     160.188088     14.227803        145.14        191.34  2511.541633   \n",
       "4     160.000472     14.276434        144.95        191.41  2503.449500   \n",
       "\n",
       "    power_std  power_min  power_max  temp_mean  temp_std  temp_min  temp_max  \\\n",
       "0  185.616121     2339.8     2951.6  35.621983  0.308230    35.156    36.152   \n",
       "1  189.940089     2332.0     2947.4  36.676967  0.585740    35.648    37.488   \n",
       "2  190.736850     2318.6     2939.8  37.880800  0.559169    36.879    38.621   \n",
       "3  191.270607     2310.8     2929.6  38.879050  0.516176    37.887    39.473   \n",
       "4  191.258369     2301.8     2923.8  39.803917  0.535374    38.789    40.391   \n",
       "\n",
       "   vib_mean   vib_std  vib_min  vib_max  \n",
       "0  0.576950  0.027078    0.532    0.624  \n",
       "1  0.565850  0.027241    0.524    0.626  \n",
       "2  0.576533  0.036729    0.529    0.662  \n",
       "3  0.569267  0.033464    0.527    0.645  \n",
       "4  0.577367  0.033484    0.524    0.660  "
      ]
     },
     "execution_count": 12,
     "metadata": {},
     "output_type": "execute_result"
    }
   ],
   "source": [
    "# Load sensor data\n",
    "ps1 = pd.read_csv('PS1.txt', sep=r'\\s+', header=None)\n",
    "eps1 = pd.read_csv('EPS1.txt', sep=r'\\s+', header=None)\n",
    "ts1 = pd.read_csv('TS1.txt', sep=r'\\s+', header=None)\n",
    "vs1 = pd.read_csv('VS1.txt', sep=r'\\s+', header=None)\n",
    "\n",
    "# Simple feature extractor\n",
    "def extract_features(df, prefix):\n",
    "    return pd.DataFrame({\n",
    "        f'{prefix}_mean': df.mean(axis=1),\n",
    "        f'{prefix}_std': df.std(axis=1),\n",
    "        f'{prefix}_min': df.min(axis=1),\n",
    "        f'{prefix}_max': df.max(axis=1),\n",
    "    })\n",
    "\n",
    "# Extract and combine features\n",
    "X = pd.concat([\n",
    "    extract_features(ps1, 'pressure'),\n",
    "    extract_features(eps1, 'power'),\n",
    "    extract_features(ts1, 'temp'),\n",
    "    extract_features(vs1, 'vib')\n",
    "], axis=1)\n",
    "\n",
    "# Confirm shape\n",
    "print(X.shape)\n",
    "X.head()\n"
   ]
  },
  {
   "cell_type": "code",
   "execution_count": 14,
   "id": "6aca428c-2e20-427e-b290-1d217fc4f5ce",
   "metadata": {},
   "outputs": [
    {
     "data": {
      "text/plain": [
       "2\n",
       "0    1221\n",
       "1     984\n",
       "Name: count, dtype: int64"
      ]
     },
     "execution_count": 14,
     "metadata": {},
     "output_type": "execute_result"
    }
   ],
   "source": [
    "# Load labels again if not already\n",
    "labels_df = pd.read_csv('profile.txt', sep=r'\\s+', header=None)\n",
    "labels = (labels_df[2] > 0).astype(int)  # binary: 0 = no leakage, 1 = any leakage\n",
    "labels.value_counts()\n",
    "\n"
   ]
  },
  {
   "cell_type": "code",
   "execution_count": 15,
   "id": "fef439dd-dd2e-4b79-b75c-29982bd75c5d",
   "metadata": {},
   "outputs": [
    {
     "name": "stdout",
     "output_type": "stream",
     "text": [
      "Confusion Matrix:\n",
      " [[296   0]\n",
      " [  1 255]]\n",
      "\n",
      "Classification Report:\n",
      "               precision    recall  f1-score   support\n",
      "\n",
      "           0       1.00      1.00      1.00       296\n",
      "           1       1.00      1.00      1.00       256\n",
      "\n",
      "    accuracy                           1.00       552\n",
      "   macro avg       1.00      1.00      1.00       552\n",
      "weighted avg       1.00      1.00      1.00       552\n",
      "\n"
     ]
    }
   ],
   "source": [
    "from sklearn.model_selection import train_test_split\n",
    "from sklearn.ensemble import RandomForestClassifier\n",
    "from sklearn.metrics import classification_report, confusion_matrix\n",
    "\n",
    "# Split the data\n",
    "X_train, X_test, y_train, y_test = train_test_split(X, labels, test_size=0.25, random_state=42)\n",
    "\n",
    "# Train the model\n",
    "model = RandomForestClassifier(n_estimators=100, random_state=42)\n",
    "model.fit(X_train, y_train)\n",
    "\n",
    "# Predict\n",
    "y_pred = model.predict(X_test)\n",
    "\n",
    "# Evaluate\n",
    "print(\"Confusion Matrix:\\n\", confusion_matrix(y_test, y_pred))\n",
    "print(\"\\nClassification Report:\\n\", classification_report(y_test, y_pred))\n"
   ]
  },
  {
   "cell_type": "code",
   "execution_count": 16,
   "id": "d77c61c5-121e-4fe7-9ad1-34b3370abef8",
   "metadata": {},
   "outputs": [
    {
     "data": {
      "image/png": "[encoded data removed]",
      "text/plain": [
       "<Figure size 1000x600 with 1 Axes>"
      ]
     },
     "metadata": {},
     "output_type": "display_data"
    }
   ],
   "source": [
    "import matplotlib.pyplot as plt\n",
    "\n",
    "importances = pd.Series(model.feature_importances_, index=X.columns)\n",
    "importances.sort_values().plot(kind='barh', figsize=(10, 6), color='skyblue')\n",
    "\n",
    "plt.title(\"Feature Importance - Pump Leakage Prediction\")\n",
    "plt.xlabel(\"Importance Score\")\n",
    "plt.tight_layout()\n",
    "plt.show()\n"
   ]
  }
 ],
 "metadata": {
  "kernelspec": {
   "display_name": "Python [conda env:base] *",
   "language": "python",
   "name": "conda-base-py"
  },
  "language_info": {
   "codemirror_mode": {
    "name": "ipython",
    "version": 3
   },
   "file_extension": ".py",
   "mimetype": "text/x-python",
   "name": "python",
   "nbconvert_exporter": "python",
   "pygments_lexer": "ipython3",
   "version": "3.12.7"
  }
 },
 "nbformat": 4,
 "nbformat_minor": 5
}
